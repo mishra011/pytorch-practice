{
 "cells": [
  {
   "cell_type": "code",
   "execution_count": 1,
   "metadata": {},
   "outputs": [
    {
     "data": {
      "text/plain": [
       "'2.5.0.dev20240613'"
      ]
     },
     "execution_count": 1,
     "metadata": {},
     "output_type": "execute_result"
    }
   ],
   "source": [
    "import torch\n",
    "torch.__version__"
   ]
  },
  {
   "cell_type": "code",
   "execution_count": 3,
   "metadata": {},
   "outputs": [
    {
     "data": {
      "text/plain": [
       "['ContextProp',\n",
       " 'PropModule',\n",
       " '__allow_nonbracketed_mutation',\n",
       " '__allow_nonbracketed_mutation_flag',\n",
       " '__builtins__',\n",
       " '__cached__',\n",
       " '__doc__',\n",
       " '__file__',\n",
       " '__loader__',\n",
       " '__name__',\n",
       " '__package__',\n",
       " '__path__',\n",
       " '__spec__',\n",
       " 'contextmanager',\n",
       " 'cpu',\n",
       " 'cuda',\n",
       " 'cudnn',\n",
       " 'disable_global_flags',\n",
       " 'flags_frozen',\n",
       " 'mha',\n",
       " 'mkl',\n",
       " 'mkldnn',\n",
       " 'mps',\n",
       " 'nnpack',\n",
       " 'openmp',\n",
       " 'quantized',\n",
       " 'types']"
      ]
     },
     "execution_count": 3,
     "metadata": {},
     "output_type": "execute_result"
    }
   ],
   "source": [
    "device = None\n",
    "\n",
    "dir(torch.backends)"
   ]
  },
  {
   "cell_type": "code",
   "execution_count": 5,
   "metadata": {},
   "outputs": [
    {
     "data": {
      "text/plain": [
       "['Any',\n",
       " 'BFloat16Storage',\n",
       " 'BFloat16Tensor',\n",
       " 'BoolStorage',\n",
       " 'BoolTensor',\n",
       " 'ByteStorage',\n",
       " 'ByteTensor',\n",
       " 'CUDAGraph',\n",
       " 'CUDAPluggableAllocator',\n",
       " 'Callable',\n",
       " 'CharStorage',\n",
       " 'CharTensor',\n",
       " 'ComplexDoubleStorage',\n",
       " 'ComplexFloatStorage',\n",
       " 'CudaError',\n",
       " 'DeferredCudaCallError',\n",
       " 'Device',\n",
       " 'DoubleStorage',\n",
       " 'DoubleTensor',\n",
       " 'Event',\n",
       " 'ExternalStream',\n",
       " 'FloatStorage',\n",
       " 'FloatTensor',\n",
       " 'HalfStorage',\n",
       " 'HalfTensor',\n",
       " 'IntStorage',\n",
       " 'IntTensor',\n",
       " 'List',\n",
       " 'LongStorage',\n",
       " 'LongTensor',\n",
       " 'Optional',\n",
       " 'OutOfMemoryError',\n",
       " 'ShortStorage',\n",
       " 'ShortTensor',\n",
       " 'Stream',\n",
       " 'StreamContext',\n",
       " 'Tuple',\n",
       " 'Union',\n",
       " '_CudaBase',\n",
       " '_CudaDeviceProperties',\n",
       " '_DeviceGuard',\n",
       " '_HAS_PYNVML',\n",
       " '_LazySeedTracker',\n",
       " '_PYNVML_ERR',\n",
       " '_WrappedTritonKernel',\n",
       " '__all__',\n",
       " '__annotations__',\n",
       " '__builtins__',\n",
       " '__cached__',\n",
       " '__doc__',\n",
       " '__file__',\n",
       " '__loader__',\n",
       " '__name__',\n",
       " '__package__',\n",
       " '__path__',\n",
       " '__spec__',\n",
       " '_cached_device_count',\n",
       " '_check_bf16_tensor_supported',\n",
       " '_check_capability',\n",
       " '_check_cubins',\n",
       " '_cudart',\n",
       " '_device',\n",
       " '_device_count_amdsmi',\n",
       " '_device_count_nvml',\n",
       " '_device_t',\n",
       " '_dummy_type',\n",
       " '_exchange_device',\n",
       " '_extract_arch_version',\n",
       " '_get_amdsmi_clock_rate',\n",
       " '_get_amdsmi_device_index',\n",
       " '_get_amdsmi_handler',\n",
       " '_get_amdsmi_memory_usage',\n",
       " '_get_amdsmi_power_draw',\n",
       " '_get_amdsmi_temperature',\n",
       " '_get_amdsmi_utilization',\n",
       " '_get_device',\n",
       " '_get_device_index',\n",
       " '_get_generator',\n",
       " '_get_nvml_device_index',\n",
       " '_get_pynvml_handler',\n",
       " '_get_rng_state_offset',\n",
       " '_initialization_lock',\n",
       " '_initialized',\n",
       " '_is_compiled',\n",
       " '_is_in_bad_fork',\n",
       " '_lazy_call',\n",
       " '_lazy_init',\n",
       " '_lazy_new',\n",
       " '_lazy_seed_tracker',\n",
       " '_maybe_exchange_device',\n",
       " '_memory_viz',\n",
       " '_nvml_based_avail',\n",
       " '_parse_visible_devices',\n",
       " '_queued_calls',\n",
       " '_raw_device_count_amdsmi',\n",
       " '_raw_device_count_nvml',\n",
       " '_raw_device_uuid_amdsmi',\n",
       " '_raw_device_uuid_nvml',\n",
       " '_register_triton_kernels',\n",
       " '_set_rng_state_offset',\n",
       " '_set_stream_by_id',\n",
       " '_sleep',\n",
       " '_tls',\n",
       " '_transform_uuid_to_ordinals',\n",
       " '_utils',\n",
       " '_warn_typed_storage_removal',\n",
       " 'amp',\n",
       " 'caching_allocator_alloc',\n",
       " 'caching_allocator_delete',\n",
       " 'can_device_access_peer',\n",
       " 'cast',\n",
       " 'change_current_allocator',\n",
       " 'check_error',\n",
       " 'classproperty',\n",
       " 'clock_rate',\n",
       " 'contextlib',\n",
       " 'cudaStatus',\n",
       " 'cudart',\n",
       " 'current_blas_handle',\n",
       " 'current_device',\n",
       " 'current_stream',\n",
       " 'default_generators',\n",
       " 'default_stream',\n",
       " 'device',\n",
       " 'device_count',\n",
       " 'device_of',\n",
       " 'empty_cache',\n",
       " 'get_allocator_backend',\n",
       " 'get_arch_list',\n",
       " 'get_device_capability',\n",
       " 'get_device_name',\n",
       " 'get_device_properties',\n",
       " 'get_gencode_flags',\n",
       " 'get_rng_state',\n",
       " 'get_rng_state_all',\n",
       " 'get_sync_debug_mode',\n",
       " 'graph',\n",
       " 'graph_pool_handle',\n",
       " 'graphs',\n",
       " 'has_half',\n",
       " 'has_magma',\n",
       " 'importlib',\n",
       " 'init',\n",
       " 'initial_seed',\n",
       " 'ipc_collect',\n",
       " 'is_available',\n",
       " 'is_bf16_supported',\n",
       " 'is_current_stream_capturing',\n",
       " 'is_initialized',\n",
       " 'jiterator',\n",
       " 'list_gpu_processes',\n",
       " 'lru_cache',\n",
       " 'make_graphed_callables',\n",
       " 'manual_seed',\n",
       " 'manual_seed_all',\n",
       " 'max_memory_allocated',\n",
       " 'max_memory_cached',\n",
       " 'max_memory_reserved',\n",
       " 'mem_get_info',\n",
       " 'memory',\n",
       " 'memory_allocated',\n",
       " 'memory_cached',\n",
       " 'memory_reserved',\n",
       " 'memory_snapshot',\n",
       " 'memory_stats',\n",
       " 'memory_stats_as_nested_dict',\n",
       " 'memory_summary',\n",
       " 'memory_usage',\n",
       " 'nccl',\n",
       " 'nvtx',\n",
       " 'os',\n",
       " 'power_draw',\n",
       " 'profiler',\n",
       " 'random',\n",
       " 'reset_accumulated_memory_stats',\n",
       " 'reset_max_memory_allocated',\n",
       " 'reset_max_memory_cached',\n",
       " 'reset_peak_memory_stats',\n",
       " 'seed',\n",
       " 'seed_all',\n",
       " 'set_device',\n",
       " 'set_per_process_memory_fraction',\n",
       " 'set_rng_state',\n",
       " 'set_rng_state_all',\n",
       " 'set_stream',\n",
       " 'set_sync_debug_mode',\n",
       " 'sparse',\n",
       " 'stream',\n",
       " 'streams',\n",
       " 'synchronize',\n",
       " 'sys',\n",
       " 'temperature',\n",
       " 'threading',\n",
       " 'torch',\n",
       " 'traceback',\n",
       " 'tunable',\n",
       " 'utilization',\n",
       " 'warnings']"
      ]
     },
     "execution_count": 5,
     "metadata": {},
     "output_type": "execute_result"
    }
   ],
   "source": [
    "dir(torch.cuda)"
   ]
  },
  {
   "cell_type": "code",
   "execution_count": 10,
   "metadata": {},
   "outputs": [
    {
     "name": "stdout",
     "output_type": "stream",
     "text": [
      "['SDPAParams', 'SDPBackend', 'Union', '_BlasBackends', '_BlasBackends_str', '_LinalgBackends', '_LinalgBackends_str', '__all__', '__builtins__', '__cached__', '__doc__', '__file__', '__loader__', '__name__', '__package__', '__path__', '__spec__', 'can_use_efficient_attention', 'can_use_flash_attention', 'contextlib', 'cuBLASModule', 'cuFFTPlanCache', 'cuFFTPlanCacheAttrContextProp', 'cuFFTPlanCacheManager', 'cudnn_sdp_enabled', 'cufft_plan_cache', 'deprecated', 'enable_cudnn_sdp', 'enable_flash_sdp', 'enable_math_sdp', 'enable_mem_efficient_sdp', 'flash_sdp_enabled', 'is_built', 'math_sdp_enabled', 'matmul', 'mem_efficient_sdp_enabled', 'preferred_blas_library', 'preferred_linalg_library', 'sdp_kernel', 'torch']\n"
     ]
    },
    {
     "data": {
      "text/plain": [
       "False"
      ]
     },
     "execution_count": 10,
     "metadata": {},
     "output_type": "execute_result"
    }
   ],
   "source": [
    "print(dir(torch.backends.cuda))\n",
    "torch.cuda.is_available()"
   ]
  },
  {
   "cell_type": "code",
   "execution_count": 7,
   "metadata": {},
   "outputs": [
    {
     "data": {
      "text/plain": [
       "['Event',\n",
       " 'Tensor',\n",
       " 'Union',\n",
       " '__all__',\n",
       " '__annotations__',\n",
       " '__builtins__',\n",
       " '__cached__',\n",
       " '__doc__',\n",
       " '__file__',\n",
       " '__loader__',\n",
       " '__name__',\n",
       " '__package__',\n",
       " '__path__',\n",
       " '__spec__',\n",
       " '_default_mps_generator',\n",
       " '_get_default_mps_generator',\n",
       " '_is_in_bad_fork',\n",
       " 'current_allocated_memory',\n",
       " 'device_count',\n",
       " 'driver_allocated_memory',\n",
       " 'empty_cache',\n",
       " 'event',\n",
       " 'get_rng_state',\n",
       " 'manual_seed',\n",
       " 'profiler',\n",
       " 'recommended_max_memory',\n",
       " 'seed',\n",
       " 'set_per_process_memory_fraction',\n",
       " 'set_rng_state',\n",
       " 'synchronize',\n",
       " 'torch']"
      ]
     },
     "execution_count": 7,
     "metadata": {},
     "output_type": "execute_result"
    }
   ],
   "source": [
    "dir(torch.mps)"
   ]
  },
  {
   "cell_type": "code",
   "execution_count": 11,
   "metadata": {},
   "outputs": [
    {
     "name": "stdout",
     "output_type": "stream",
     "text": [
      "['Optional', '_Library', '__all__', '__annotations__', '__builtins__', '__cached__', '__doc__', '__file__', '__loader__', '__name__', '__package__', '__path__', '__spec__', '_init', '_lib', '_lru_cache', 'is_available', 'is_built', 'is_macos13_or_newer', 'is_macos_or_newer', 'torch']\n",
      "True\n"
     ]
    },
    {
     "data": {
      "text/plain": [
       "1"
      ]
     },
     "execution_count": 11,
     "metadata": {},
     "output_type": "execute_result"
    }
   ],
   "source": [
    "print(dir(torch.backends.mps))\n",
    "print(torch.backends.mps.is_available())\n",
    "torch.mps.device_count()"
   ]
  },
  {
   "cell_type": "code",
   "execution_count": 12,
   "metadata": {},
   "outputs": [
    {
     "data": {
      "text/plain": [
       "'1.26.4'"
      ]
     },
     "execution_count": 12,
     "metadata": {},
     "output_type": "execute_result"
    }
   ],
   "source": [
    "import numpy as np\n",
    "np.__version__\n"
   ]
  },
  {
   "cell_type": "code",
   "execution_count": 20,
   "metadata": {},
   "outputs": [
    {
     "name": "stdout",
     "output_type": "stream",
     "text": [
      "[0 1 2 3 4] int64\n"
     ]
    }
   ],
   "source": [
    "lst = [0,1,2,3,4]\n",
    "arr = np.array(lst)\n",
    "print(arr, arr.dtype)\n"
   ]
  },
  {
   "cell_type": "code",
   "execution_count": 21,
   "metadata": {},
   "outputs": [
    {
     "name": "stdout",
     "output_type": "stream",
     "text": [
      "tensor([0, 1, 2, 3, 4]) torch.int64\n"
     ]
    }
   ],
   "source": [
    "# Both numpy and tensor use same memory so if we update on other also get updated\n",
    "tensors = torch.from_numpy(arr)\n",
    "print(tensors, tensors.dtype)"
   ]
  },
  {
   "cell_type": "code",
   "execution_count": 22,
   "metadata": {},
   "outputs": [
    {
     "name": "stdout",
     "output_type": "stream",
     "text": [
      "tensor([0, 1])\n",
      "tensor([1, 2, 3])\n",
      "tensor(2)\n",
      "tensor([  0, 100,   2,   3,   4])\n",
      "[  0 100   2   3   4]\n"
     ]
    }
   ],
   "source": [
    "print(tensors[:2])\n",
    "print(tensors[1:4])\n",
    "print(tensors[2])\n",
    "tensors[1] = 100\n",
    "print(tensors)\n",
    "print(arr)"
   ]
  },
  {
   "cell_type": "code",
   "execution_count": 23,
   "metadata": {},
   "outputs": [
    {
     "name": "stdout",
     "output_type": "stream",
     "text": [
      "tensor([  0, 100,   2,   3,   4])\n",
      "[  0 100   2   3   4]\n",
      "tensor([  0, 100, 300,   3,   4])\n",
      "[  0 100   2   3   4]\n"
     ]
    }
   ],
   "source": [
    "# for saperate numpy and tensor memory\n",
    "tensors = torch.tensor(arr)\n",
    "print(tensors)\n",
    "print(arr)\n",
    "tensors[2] = 300\n",
    "print(tensors)\n",
    "print(arr)"
   ]
  },
  {
   "cell_type": "code",
   "execution_count": 25,
   "metadata": {},
   "outputs": [
    {
     "name": "stdout",
     "output_type": "stream",
     "text": [
      "tensor([[0., 0., 0.],\n",
      "        [0., 0., 0.]]) torch.float32\n",
      "tensor([[1., 1., 1.],\n",
      "        [1., 1., 1.]], dtype=torch.float64)\n"
     ]
    }
   ],
   "source": [
    "zeros = torch.zeros(2,3, dtype=torch.float32)\n",
    "ones = torch.ones(2,3, dtype=torch.float64)\n",
    "print(zeros, zeros.dtype)\n",
    "print(ones)"
   ]
  },
  {
   "cell_type": "code",
   "execution_count": 29,
   "metadata": {},
   "outputs": [
    {
     "name": "stdout",
     "output_type": "stream",
     "text": [
      "tensor([  12.,  203., 3004.])\n",
      "tensor([  12.,  203., 3004.])\n",
      "tensor([  12.,  203., 3004.])\n",
      "tensor([  12.,  203., 3004.]) torch.float32\n"
     ]
    }
   ],
   "source": [
    "t1 = torch.tensor([2,3,4], dtype=torch.float)\n",
    "t2 = torch.tensor([10,200,3000], dtype=torch.float)\n",
    "\n",
    "print(t2+t1)\n",
    "print(torch.add(t1, t2))\n",
    "\n",
    "t3 = torch.zeros(3, dtype=torch.float)\n",
    "print(torch.add(t1, t2, out=t3))\n",
    "print(t3, t3.dtype)\n"
   ]
  },
  {
   "cell_type": "code",
   "execution_count": null,
   "metadata": {},
   "outputs": [],
   "source": []
  }
 ],
 "metadata": {
  "kernelspec": {
   "display_name": "denv",
   "language": "python",
   "name": "python3"
  },
  "language_info": {
   "codemirror_mode": {
    "name": "ipython",
    "version": 3
   },
   "file_extension": ".py",
   "mimetype": "text/x-python",
   "name": "python",
   "nbconvert_exporter": "python",
   "pygments_lexer": "ipython3",
   "version": "3.10.14"
  }
 },
 "nbformat": 4,
 "nbformat_minor": 2
}
